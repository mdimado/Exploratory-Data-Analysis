{
  "cells": [
    {
      "cell_type": "code",
      "execution_count": 2,
      "metadata": {
        "id": "P-yFx7kftpvi"
      },
      "outputs": [],
      "source": [
        "import pandas as pd"
      ]
    },
    {
      "cell_type": "code",
      "execution_count": 3,
      "metadata": {},
      "outputs": [],
      "source": [
        "df = pd.read_csv(\"smoke_detection_iot.csv\")"
      ]
    },
    {
      "cell_type": "code",
      "execution_count": 4,
      "metadata": {},
      "outputs": [
        {
          "name": "stdout",
          "output_type": "stream",
          "text": [
            "<class 'pandas.core.frame.DataFrame'>\n",
            "RangeIndex: 62630 entries, 0 to 62629\n",
            "Data columns (total 16 columns):\n",
            " #   Column          Non-Null Count  Dtype  \n",
            "---  ------          --------------  -----  \n",
            " 0   Unnamed: 0      62630 non-null  int64  \n",
            " 1   UTC             62630 non-null  int64  \n",
            " 2   Temperature[C]  62630 non-null  float64\n",
            " 3   Humidity[%]     62630 non-null  float64\n",
            " 4   TVOC[ppb]       62630 non-null  int64  \n",
            " 5   eCO2[ppm]       62630 non-null  int64  \n",
            " 6   Raw H2          62630 non-null  int64  \n",
            " 7   Raw Ethanol     62630 non-null  int64  \n",
            " 8   Pressure[hPa]   62630 non-null  float64\n",
            " 9   PM1.0           62630 non-null  float64\n",
            " 10  PM2.5           62630 non-null  float64\n",
            " 11  NC0.5           62630 non-null  float64\n",
            " 12  NC1.0           62630 non-null  float64\n",
            " 13  NC2.5           62630 non-null  float64\n",
            " 14  CNT             62630 non-null  int64  \n",
            " 15  Fire Alarm      62630 non-null  int64  \n",
            "dtypes: float64(8), int64(8)\n",
            "memory usage: 7.6 MB\n"
          ]
        }
      ],
      "source": [
        "df.info()"
      ]
    },
    {
      "cell_type": "code",
      "execution_count": null,
      "metadata": {},
      "outputs": [],
      "source": []
    }
  ],
  "metadata": {
    "colab": {
      "provenance": []
    },
    "kernelspec": {
      "display_name": "Python 3",
      "name": "python3"
    },
    "language_info": {
      "codemirror_mode": {
        "name": "ipython",
        "version": 3
      },
      "file_extension": ".py",
      "mimetype": "text/x-python",
      "name": "python",
      "nbconvert_exporter": "python",
      "pygments_lexer": "ipython3",
      "version": "3.13.1"
    }
  },
  "nbformat": 4,
  "nbformat_minor": 0
}
